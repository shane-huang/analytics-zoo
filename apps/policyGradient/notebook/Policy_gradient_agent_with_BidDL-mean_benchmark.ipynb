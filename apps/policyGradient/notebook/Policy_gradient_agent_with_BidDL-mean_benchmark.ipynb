{
 "cells": [
  {
   "cell_type": "markdown",
   "metadata": {},
   "source": [
    "# Policy gradient algrorithm with BigDL"
   ]
  },
  {
   "cell_type": "code",
   "execution_count": 1,
   "metadata": {
    "ExecuteTime": {
     "end_time": "2017-10-25T07:35:22.881072Z",
     "start_time": "2017-10-25T07:35:22.640709Z"
    }
   },
   "outputs": [],
   "source": [
    "import random\n",
    "import gym\n",
    "import numpy as np\n",
    "from collections import deque\n",
    "\n",
    "import matplotlib.pyplot as plt\n",
    "%matplotlib inline\n"
   ]
  },
  {
   "cell_type": "code",
   "execution_count": 2,
   "metadata": {
    "ExecuteTime": {
     "end_time": "2017-10-25T07:35:23.332628Z",
     "start_time": "2017-10-25T07:35:22.883621Z"
    }
   },
   "outputs": [],
   "source": [
    "from bigdl.dataset.transformer import Sample\n",
    "from bigdl.nn.layer import *\n",
    "from bigdl.util.common import *\n",
    "from bigdl.optim.optimizer import *\n",
    "from bigdl.nn.criterion import *\n",
    "\n",
    "init_engine()\n",
    "#conf = create_spark_conf()\n",
    "#conf.setMaster(\"local[1]\")\n",
    "#sc = SparkContext.getOrCreate(conf)"
   ]
  },
  {
   "cell_type": "markdown",
   "metadata": {},
   "source": [
    "## The policy gradient agent"
   ]
  },
  {
   "cell_type": "code",
   "execution_count": 3,
   "metadata": {
    "ExecuteTime": {
     "end_time": "2017-10-25T07:35:23.356451Z",
     "start_time": "2017-10-25T07:35:23.335122Z"
    }
   },
   "outputs": [],
   "source": [
    "class PGAgent:\n",
    "    def __init__(self, state_size, action_size, gamma=0.95, epsilon=1.0,\n",
    "                 epsilon_min=0.01, epsilon_decay=0.995, learning_rate=0.001):\n",
    "        self.state_size = state_size\n",
    "        self.action_size = action_size\n",
    "        self.memory = deque(maxlen=2000)\n",
    "        self.gamma = gamma  # discount rate\n",
    "        self.epsilon = epsilon  # exploration rate\n",
    "        self.epsilon_min = epsilon_min\n",
    "        self.epsilon_decay = epsilon_decay\n",
    "        self.learning_rate = learning_rate\n",
    "        self.model = self._build_model()\n",
    "\n",
    "    def _build_model(self):\n",
    "        # Neural Net for Deep-Q learning Model\n",
    "        model = Sequential()\n",
    "\n",
    "        model.add(Linear(self.state_size, 24))\n",
    "        model.add(ReLU())\n",
    "\n",
    "        model.add(Linear(24, 24))\n",
    "        model.add(ReLU())\n",
    "\n",
    "        model.add(Linear(24, 1))\n",
    "        return model\n",
    "\n",
    "    def act(self, state):\n",
    "        result = self.model.forward(state)\n",
    "        return 0 if result < 0 else 1"
   ]
  },
  {
   "cell_type": "markdown",
   "metadata": {},
   "source": [
    "## Define some utility functions"
   ]
  },
  {
   "cell_type": "markdown",
   "metadata": {},
   "source": [
    "* from ndarray to RDD"
   ]
  },
  {
   "cell_type": "code",
   "execution_count": 4,
   "metadata": {
    "ExecuteTime": {
     "end_time": "2017-10-25T07:35:23.656757Z",
     "start_time": "2017-10-25T07:35:23.358548Z"
    }
   },
   "outputs": [],
   "source": [
    "def to_RDD(X, y):\n",
    "    return sc.parallelize(X).zip(sc.parallelize(y)).map(\n",
    "            lambda x: Sample.from_ndarray(x[0], x[1]))"
   ]
  },
  {
   "cell_type": "markdown",
   "metadata": {},
   "source": [
    "* play n episode of games"
   ]
  },
  {
   "cell_type": "code",
   "execution_count": 5,
   "metadata": {
    "ExecuteTime": {
     "end_time": "2017-10-25T07:35:23.774518Z",
     "start_time": "2017-10-25T07:35:23.660788Z"
    }
   },
   "outputs": [],
   "source": [
    "def play_n_games(n_games=100):\n",
    "    memory = []\n",
    "    actions = []\n",
    "    results = np.array([])\n",
    "    for e in range(n_games):\n",
    "        state = env.reset()\n",
    "        local_memory = np.array([0,0,0,0])\n",
    "        local_actions = np.array([])\n",
    "        for time in range(500):\n",
    "            #env.render()\n",
    "            local_memory = np.vstack((local_memory, state))\n",
    "            action = agent.act(state)\n",
    "            local_actions = np.append(local_actions, action)\n",
    "            state, _, done, _ = env.step(action)\n",
    "            if done or time == 498:\n",
    "                memory.append(local_memory[1:])\n",
    "                actions.append(local_actions)\n",
    "                results = np.append(results, time)\n",
    "                break\n",
    "    return memory, actions, results"
   ]
  },
  {
   "cell_type": "markdown",
   "metadata": {},
   "source": [
    "* turn game results into train data (features and labels)"
   ]
  },
  {
   "cell_type": "code",
   "execution_count": 6,
   "metadata": {
    "ExecuteTime": {
     "end_time": "2017-10-25T07:35:23.882373Z",
     "start_time": "2017-10-25T07:35:23.778172Z"
    }
   },
   "outputs": [],
   "source": [
    "def games_to_train_data(memory, actions, results, benchmark):\n",
    "    train_batch = np.array([0,0,0,0])\n",
    "    train_labels = []\n",
    "    for local_memory, local_actions, result in zip(memory, actions, results):\n",
    "        train_batch = np.vstack((train_batch, np.array(local_memory)))\n",
    "        if result > benchmark:\n",
    "            local_labels = [-1 if x<=0 else 1 for x in local_actions]\n",
    "        else:\n",
    "            local_labels = [1 if x<=0 else -1 for x in local_actions]\n",
    "        train_labels = np.append(train_labels, local_labels)\n",
    "    return train_batch[1:], train_labels"
   ]
  },
  {
   "cell_type": "markdown",
   "metadata": {},
   "source": [
    "## initalize simulation environment"
   ]
  },
  {
   "cell_type": "code",
   "execution_count": 7,
   "metadata": {
    "ExecuteTime": {
     "end_time": "2017-10-25T07:35:24.190014Z",
     "start_time": "2017-10-25T07:35:23.885808Z"
    }
   },
   "outputs": [
    {
     "name": "stderr",
     "output_type": "stream",
     "text": [
      "[2017-10-25 15:35:23,997] Making new env: CartPole-v1\n"
     ]
    },
    {
     "name": "stdout",
     "output_type": "stream",
     "text": [
      "creating: createSequential\n",
      "creating: createLinear\n",
      "creating: createReLU\n",
      "creating: createLinear\n",
      "creating: createReLU\n",
      "creating: createLinear\n"
     ]
    }
   ],
   "source": [
    "env = gym.make('CartPole-v1')\n",
    "\n",
    "state_size = env.observation_space.shape[0]\n",
    "action_size = env.action_space.n\n",
    "agent = PGAgent(state_size, action_size)"
   ]
  },
  {
   "cell_type": "markdown",
   "metadata": {},
   "source": [
    "## train and play"
   ]
  },
  {
   "cell_type": "code",
   "execution_count": 8,
   "metadata": {
    "ExecuteTime": {
     "end_time": "2017-10-25T07:35:24.196050Z",
     "start_time": "2017-10-25T07:35:24.192266Z"
    }
   },
   "outputs": [],
   "source": [
    "record = []\n",
    "i = 0\n",
    "benchmark = 0\n",
    "local_records = []\n",
    "exe_times = []"
   ]
  },
  {
   "cell_type": "code",
   "execution_count": 9,
   "metadata": {
    "ExecuteTime": {
     "end_time": "2017-10-25T07:48:47.332398Z",
     "start_time": "2017-10-25T07:35:24.198388Z"
    }
   },
   "outputs": [
    {
     "name": "stdout",
     "output_type": "stream",
     "text": [
      "============Current resulst: 8.56, variance: 0.6464. This is try number: 1===========\n",
      "game play tooks: 3.3870549202 secs\n",
      "creating: createMSECriterion\n",
      "creating: createAdam\n",
      "creating: createMaxEpoch\n",
      "creating: createOptimizer\n",
      "data prepare tooks: 0.317651033401 secs\n",
      "train tooks: 2.71863603592 secs\n",
      "============Current resulst: 8.46, variance: 0.6084. This is try number: 2===========\n",
      "game play tooks: 3.07830905914 secs\n",
      "creating: createMSECriterion\n",
      "creating: createAdam\n",
      "creating: createMaxEpoch\n",
      "creating: createOptimizer\n",
      "data prepare tooks: 0.00994205474854 secs\n",
      "train tooks: 0.829974889755 secs\n",
      "============Current resulst: 8.42, variance: 0.4836. This is try number: 3===========\n",
      "game play tooks: 2.69715189934 secs\n",
      "creating: createMSECriterion\n",
      "creating: createAdam\n",
      "creating: createMaxEpoch\n",
      "creating: createOptimizer\n",
      "data prepare tooks: 0.00883507728577 secs\n",
      "train tooks: 0.726584911346 secs\n",
      "============Current resulst: 8.56, variance: 0.4464. This is try number: 4===========\n",
      "game play tooks: 2.84348106384 secs\n",
      "creating: createMSECriterion\n",
      "creating: createAdam\n",
      "creating: createMaxEpoch\n",
      "creating: createOptimizer\n",
      "data prepare tooks: 0.00824499130249 secs\n",
      "train tooks: 0.701424837112 secs\n",
      "============Current resulst: 8.44, variance: 0.5664. This is try number: 5===========\n",
      "game play tooks: 2.4415678978 secs\n",
      "creating: createMSECriterion\n",
      "creating: createAdam\n",
      "creating: createMaxEpoch\n",
      "creating: createOptimizer\n",
      "data prepare tooks: 0.00741505622864 secs\n",
      "train tooks: 0.677602052689 secs\n",
      "============Current resulst: 8.42, variance: 0.4836. This is try number: 6===========\n",
      "game play tooks: 2.54714393616 secs\n",
      "creating: createMSECriterion\n",
      "creating: createAdam\n",
      "creating: createMaxEpoch\n",
      "creating: createOptimizer\n",
      "data prepare tooks: 0.00884294509888 secs\n",
      "train tooks: 0.773345947266 secs\n",
      "============Current resulst: 8.88, variance: 0.4256. This is try number: 7===========\n",
      "game play tooks: 3.15557217598 secs\n",
      "creating: createMSECriterion\n",
      "creating: createAdam\n",
      "creating: createMaxEpoch\n",
      "creating: createOptimizer\n",
      "data prepare tooks: 0.00855207443237 secs\n",
      "train tooks: 0.878291845322 secs\n",
      "============Current resulst: 8.76, variance: 0.4224. This is try number: 8===========\n",
      "game play tooks: 3.15411114693 secs\n",
      "creating: createMSECriterion\n",
      "creating: createAdam\n",
      "creating: createMaxEpoch\n",
      "creating: createOptimizer\n",
      "data prepare tooks: 0.0116310119629 secs\n",
      "train tooks: 0.773953914642 secs\n",
      "============Current resulst: 8.38, variance: 0.5156. This is try number: 9===========\n",
      "game play tooks: 3.01683402061 secs\n",
      "creating: createMSECriterion\n",
      "creating: createAdam\n",
      "creating: createMaxEpoch\n",
      "creating: createOptimizer\n",
      "data prepare tooks: 0.0110249519348 secs\n",
      "train tooks: 0.676583051682 secs\n",
      "============Current resulst: 8.18, variance: 0.4676. This is try number: 10===========\n",
      "game play tooks: 2.87978100777 secs\n",
      "creating: createMSECriterion\n",
      "creating: createAdam\n",
      "creating: createMaxEpoch\n",
      "creating: createOptimizer\n",
      "data prepare tooks: 0.0161089897156 secs\n",
      "train tooks: 0.653650999069 secs\n",
      "============Current resulst: 8.42, variance: 0.5636. This is try number: 11===========\n",
      "game play tooks: 3.12261891365 secs\n",
      "creating: createMSECriterion\n",
      "creating: createAdam\n",
      "creating: createMaxEpoch\n",
      "creating: createOptimizer\n",
      "data prepare tooks: 0.00862908363342 secs\n",
      "train tooks: 0.76155090332 secs\n",
      "============Current resulst: 8.34, variance: 0.6244. This is try number: 12===========\n",
      "game play tooks: 2.81364297867 secs\n",
      "creating: createMSECriterion\n",
      "creating: createAdam\n",
      "creating: createMaxEpoch\n",
      "creating: createOptimizer\n",
      "data prepare tooks: 0.00652122497559 secs\n",
      "train tooks: 0.593087911606 secs\n",
      "============Current resulst: 8.82, variance: 0.2676. This is try number: 13===========\n",
      "game play tooks: 2.92357897758 secs\n",
      "creating: createMSECriterion\n",
      "creating: createAdam\n",
      "creating: createMaxEpoch\n",
      "creating: createOptimizer\n",
      "data prepare tooks: 0.00876116752625 secs\n",
      "train tooks: 0.793687820435 secs\n",
      "============Current resulst: 8.54, variance: 0.5284. This is try number: 14===========\n",
      "game play tooks: 2.8598139286 secs\n",
      "creating: createMSECriterion\n",
      "creating: createAdam\n",
      "creating: createMaxEpoch\n",
      "creating: createOptimizer\n",
      "data prepare tooks: 0.011255979538 secs\n",
      "train tooks: 0.586473941803 secs\n",
      "============Current resulst: 8.5, variance: 0.69. This is try number: 15===========\n",
      "game play tooks: 2.59440279007 secs\n",
      "creating: createMSECriterion\n",
      "creating: createAdam\n",
      "creating: createMaxEpoch\n",
      "creating: createOptimizer\n",
      "data prepare tooks: 0.00786399841309 secs\n",
      "train tooks: 0.574218034744 secs\n",
      "============Current resulst: 8.94, variance: 0.1764. This is try number: 16===========\n",
      "game play tooks: 2.42394804955 secs\n",
      "creating: createMSECriterion\n",
      "creating: createAdam\n",
      "creating: createMaxEpoch\n",
      "creating: createOptimizer\n",
      "data prepare tooks: 0.00791907310486 secs\n",
      "train tooks: 0.548958063126 secs\n",
      "============Current resulst: 8.34, variance: 0.5444. This is try number: 17===========\n",
      "game play tooks: 2.33040499687 secs\n",
      "creating: createMSECriterion\n",
      "creating: createAdam\n",
      "creating: createMaxEpoch\n",
      "creating: createOptimizer\n",
      "data prepare tooks: 0.00675201416016 secs\n",
      "train tooks: 0.569586038589 secs\n",
      "============Current resulst: 8.62, variance: 0.3556. This is try number: 18===========\n",
      "game play tooks: 2.30411601067 secs\n",
      "creating: createMSECriterion\n",
      "creating: createAdam\n",
      "creating: createMaxEpoch\n",
      "creating: createOptimizer\n",
      "data prepare tooks: 0.00875306129456 secs\n",
      "train tooks: 0.713700056076 secs\n",
      "============Current resulst: 8.76, variance: 0.2224. This is try number: 19===========\n",
      "game play tooks: 3.10191392899 secs\n",
      "creating: createMSECriterion\n",
      "creating: createAdam\n",
      "creating: createMaxEpoch\n",
      "creating: createOptimizer\n",
      "data prepare tooks: 0.00664281845093 secs\n",
      "train tooks: 0.63490319252 secs\n",
      "============Current resulst: 8.38, variance: 0.5556. This is try number: 20===========\n",
      "game play tooks: 2.56193399429 secs\n",
      "creating: createMSECriterion\n",
      "creating: createAdam\n",
      "creating: createMaxEpoch\n",
      "creating: createOptimizer\n",
      "data prepare tooks: 0.00706815719604 secs\n",
      "train tooks: 0.602530956268 secs\n",
      "============Current resulst: 8.86, variance: 0.3204. This is try number: 21===========\n",
      "game play tooks: 3.15008115768 secs\n",
      "creating: createMSECriterion\n",
      "creating: createAdam\n",
      "creating: createMaxEpoch\n",
      "creating: createOptimizer\n",
      "data prepare tooks: 0.00748109817505 secs\n",
      "train tooks: 0.551556825638 secs\n",
      "============Current resulst: 8.78, variance: 0.4116. This is try number: 22===========\n",
      "game play tooks: 2.41086792946 secs\n",
      "creating: createMSECriterion\n",
      "creating: createAdam\n",
      "creating: createMaxEpoch\n",
      "creating: createOptimizer\n",
      "data prepare tooks: 0.00668287277222 secs\n",
      "train tooks: 0.631927013397 secs\n",
      "============Current resulst: 8.36, variance: 0.5104. This is try number: 23===========\n",
      "game play tooks: 2.50535511971 secs\n",
      "creating: createMSECriterion\n",
      "creating: createAdam\n",
      "creating: createMaxEpoch\n",
      "creating: createOptimizer\n",
      "data prepare tooks: 0.00761198997498 secs\n",
      "train tooks: 0.673029899597 secs\n",
      "============Current resulst: 8.06, variance: 0.5364. This is try number: 24===========\n",
      "game play tooks: 2.79196715355 secs\n",
      "creating: createMSECriterion\n",
      "creating: createAdam\n",
      "creating: createMaxEpoch\n",
      "creating: createOptimizer\n",
      "data prepare tooks: 0.0072660446167 secs\n",
      "train tooks: 0.530391931534 secs\n",
      "============Current resulst: 8.46, variance: 0.5684. This is try number: 25===========\n",
      "game play tooks: 2.22257900238 secs\n",
      "creating: createMSECriterion\n",
      "creating: createAdam\n",
      "creating: createMaxEpoch\n",
      "creating: createOptimizer\n",
      "data prepare tooks: 0.0116739273071 secs\n",
      "train tooks: 0.509373903275 secs\n",
      "============Current resulst: 8.7, variance: 0.25. This is try number: 26===========\n",
      "game play tooks: 2.64303398132 secs\n",
      "creating: createMSECriterion\n",
      "creating: createAdam\n",
      "creating: createMaxEpoch\n",
      "creating: createOptimizer\n",
      "data prepare tooks: 0.00727295875549 secs\n",
      "train tooks: 0.599983215332 secs\n",
      "============Current resulst: 8.32, variance: 0.6576. This is try number: 27===========\n",
      "game play tooks: 2.97620511055 secs\n",
      "creating: createMSECriterion\n",
      "creating: createAdam\n",
      "creating: createMaxEpoch\n",
      "creating: createOptimizer\n",
      "data prepare tooks: 0.00944685935974 secs\n",
      "train tooks: 0.599281072617 secs\n",
      "============Current resulst: 8.28, variance: 0.5216. This is try number: 28===========\n",
      "game play tooks: 2.87863206863 secs\n",
      "creating: createMSECriterion\n",
      "creating: createAdam\n",
      "creating: createMaxEpoch\n",
      "creating: createOptimizer\n"
     ]
    },
    {
     "name": "stdout",
     "output_type": "stream",
     "text": [
      "data prepare tooks: 0.00670909881592 secs\n",
      "train tooks: 0.570444107056 secs\n",
      "============Current resulst: 8.74, variance: 0.3524. This is try number: 29===========\n",
      "game play tooks: 2.59721207619 secs\n",
      "creating: createMSECriterion\n",
      "creating: createAdam\n",
      "creating: createMaxEpoch\n",
      "creating: createOptimizer\n",
      "data prepare tooks: 0.00710201263428 secs\n",
      "train tooks: 0.847631931305 secs\n",
      "============Current resulst: 8.26, variance: 0.5524. This is try number: 30===========\n",
      "game play tooks: 2.46188402176 secs\n",
      "creating: createMSECriterion\n",
      "creating: createAdam\n",
      "creating: createMaxEpoch\n",
      "creating: createOptimizer\n",
      "data prepare tooks: 0.00629806518555 secs\n",
      "train tooks: 0.540333032608 secs\n",
      "============Current resulst: 8.62, variance: 0.4356. This is try number: 31===========\n",
      "game play tooks: 2.61962485313 secs\n",
      "creating: createMSECriterion\n",
      "creating: createAdam\n",
      "creating: createMaxEpoch\n",
      "creating: createOptimizer\n",
      "data prepare tooks: 0.00682592391968 secs\n",
      "train tooks: 0.595449209213 secs\n",
      "============Current resulst: 8.8, variance: 0.32. This is try number: 32===========\n",
      "game play tooks: 2.97491502762 secs\n",
      "creating: createMSECriterion\n",
      "creating: createAdam\n",
      "creating: createMaxEpoch\n",
      "creating: createOptimizer\n",
      "data prepare tooks: 0.0064480304718 secs\n",
      "train tooks: 0.750570058823 secs\n",
      "============Current resulst: 8.26, variance: 0.6724. This is try number: 33===========\n",
      "game play tooks: 2.37688803673 secs\n",
      "creating: createMSECriterion\n",
      "creating: createAdam\n",
      "creating: createMaxEpoch\n",
      "creating: createOptimizer\n",
      "data prepare tooks: 0.00646591186523 secs\n",
      "train tooks: 0.546559095383 secs\n",
      "============Current resulst: 8.58, variance: 0.4436. This is try number: 34===========\n",
      "game play tooks: 2.5154709816 secs\n",
      "creating: createMSECriterion\n",
      "creating: createAdam\n",
      "creating: createMaxEpoch\n",
      "creating: createOptimizer\n",
      "data prepare tooks: 0.00756001472473 secs\n",
      "train tooks: 0.491192102432 secs\n",
      "============Current resulst: 8.34, variance: 0.5044. This is try number: 35===========\n",
      "game play tooks: 2.47052407265 secs\n",
      "creating: createMSECriterion\n",
      "creating: createAdam\n",
      "creating: createMaxEpoch\n",
      "creating: createOptimizer\n",
      "data prepare tooks: 0.00639200210571 secs\n",
      "train tooks: 0.590624094009 secs\n",
      "============Current resulst: 8.56, variance: 0.6064. This is try number: 36===========\n",
      "game play tooks: 2.89226412773 secs\n",
      "creating: createMSECriterion\n",
      "creating: createAdam\n",
      "creating: createMaxEpoch\n",
      "creating: createOptimizer\n",
      "data prepare tooks: 0.00781321525574 secs\n",
      "train tooks: 0.535826921463 secs\n",
      "============Current resulst: 8.12, variance: 0.7856. This is try number: 37===========\n",
      "game play tooks: 2.25482010841 secs\n",
      "creating: createMSECriterion\n",
      "creating: createAdam\n",
      "creating: createMaxEpoch\n",
      "creating: createOptimizer\n",
      "data prepare tooks: 0.00664710998535 secs\n",
      "train tooks: 0.535356998444 secs\n",
      "============Current resulst: 8.46, variance: 0.4484. This is try number: 38===========\n",
      "game play tooks: 2.6282389164 secs\n",
      "creating: createMSECriterion\n",
      "creating: createAdam\n",
      "creating: createMaxEpoch\n",
      "creating: createOptimizer\n",
      "data prepare tooks: 0.0082859992981 secs\n",
      "train tooks: 0.55117893219 secs\n",
      "============Current resulst: 9.0, variance: 0.12. This is try number: 39===========\n",
      "game play tooks: 2.90298295021 secs\n",
      "creating: createMSECriterion\n",
      "creating: createAdam\n",
      "creating: createMaxEpoch\n",
      "creating: createOptimizer\n",
      "data prepare tooks: 0.00657606124878 secs\n",
      "train tooks: 0.554491996765 secs\n",
      "============Current resulst: 18.96, variance: 12.9984. This is try number: 40===========\n",
      "game play tooks: 4.71774482727 secs\n",
      "creating: createMSECriterion\n",
      "creating: createAdam\n",
      "creating: createMaxEpoch\n",
      "creating: createOptimizer\n",
      "data prepare tooks: 0.00731492042542 secs\n",
      "train tooks: 1.24592590332 secs\n",
      "============Current resulst: 17.28, variance: 11.7216. This is try number: 41===========\n",
      "game play tooks: 5.39191794395 secs\n",
      "creating: createMSECriterion\n",
      "creating: createAdam\n",
      "creating: createMaxEpoch\n",
      "creating: createOptimizer\n",
      "data prepare tooks: 0.00836300849915 secs\n",
      "train tooks: 1.03571295738 secs\n",
      "============Current resulst: 18.62, variance: 3.3156. This is try number: 42===========\n",
      "game play tooks: 5.09947109222 secs\n",
      "creating: createMSECriterion\n",
      "creating: createAdam\n",
      "creating: createMaxEpoch\n",
      "creating: createOptimizer\n",
      "data prepare tooks: 0.0085871219635 secs\n",
      "train tooks: 1.00664997101 secs\n",
      "============Current resulst: 65.96, variance: 20744.9984. This is try number: 43===========\n",
      "game play tooks: 16.4609100819 secs\n",
      "creating: createMSECriterion\n",
      "creating: createAdam\n",
      "creating: createMaxEpoch\n",
      "creating: createOptimizer\n",
      "data prepare tooks: 0.00959300994873 secs\n",
      "train tooks: 2.64999985695 secs\n",
      "============Current resulst: 463.06, variance: 11708.7764. This is try number: 44===========\n",
      "game play tooks: 114.315104008 secs\n",
      "creating: createMSECriterion\n",
      "creating: createAdam\n",
      "creating: createMaxEpoch\n",
      "creating: createOptimizer\n",
      "data prepare tooks: 0.0213980674744 secs\n",
      "train tooks: 17.2369019985 secs\n",
      "============Current resulst: 498.0, variance: 0.0. This is try number: 45===========\n",
      "game play tooks: 137.285516024 secs\n",
      "no need to train in this trial.\n",
      "============Current resulst: 498.0, variance: 0.0. This is try number: 46===========\n",
      "game play tooks: 122.062614918 secs\n",
      "no need to train in this trial.\n",
      "============Current resulst: 498.0, variance: 0.0. This is try number: 47===========\n",
      "game play tooks: 119.787905216 secs\n",
      "no need to train in this trial.\n",
      "============Current resulst: 498.0, variance: 0.0. This is try number: 48===========\n",
      "game play tooks: 120.372900963 secs\n",
      "no need to train in this trial.\n",
      "CPU times: user 6min 25s, sys: 2min, total: 8min 25s\n",
      "Wall time: 13min 22s\n"
     ]
    }
   ],
   "source": [
    "%%time\n",
    "\n",
    "import timeit\n",
    "\n",
    "t=0\n",
    "while i <= 200:\n",
    "    i += 1\n",
    "    \n",
    "    start_of_play = timeit.default_timer()\n",
    "    memory, actions, results = play_n_games(n_games=50)\n",
    "    end_of_play = timeit.default_timer()\n",
    "    \n",
    "   \n",
    "    \n",
    "    record.append([results.mean(), results.var()])\n",
    "    print('============Current resulst: {}, variance: {}. This is try number: {}==========='.format(results.mean(), results.var(), i))              \n",
    "    benchmark = results.mean()\n",
    "    \n",
    "    exe_time_game_play = end_of_play-start_of_play\n",
    "    print \"game play tooks:\",exe_time_game_play,'secs'\n",
    "    if benchmark != 498:\n",
    "        t=0\n",
    "        \n",
    "        start_of_train = timeit.default_timer()\n",
    "        \n",
    "        train_batch, train_labels = games_to_train_data(memory, actions, results, benchmark)\n",
    "        rdd_sample = to_RDD(train_batch, train_labels)\n",
    "        \n",
    "        end_of_data_prepare = timeit.default_timer()\n",
    "        \n",
    "        optimizer = Optimizer(model=agent.model,\n",
    "                                  training_rdd=rdd_sample,\n",
    "                                  criterion=MSECriterion(),\n",
    "                                  optim_method=Adam(),\n",
    "                                  end_trigger=MaxEpoch(1),\n",
    "                                  batch_size=32)\n",
    "        trained_model = optimizer.optimize()\n",
    "        agent.model = trained_model\n",
    "        end_of_train = timeit.default_timer()\n",
    "        exe_time_data_prepare = end_of_data_prepare-start_of_train\n",
    "        exe_time_train = end_of_train-end_of_data_prepare\n",
    "        print \"data prepare tooks:\",exe_time_data_prepare,'secs'\n",
    "        print \"train tooks:\",exe_time_train,'secs'\n",
    "    else:\n",
    "        t+=1\n",
    "        exe_time_data_prepare = 0\n",
    "        exe_time_train = 0\n",
    "        print \"no need to train in this trial.\"\n",
    "    exe_times.append([exe_time_game_play,exe_time_data_prepare,exe_time_train])\n",
    "    if t==4:\n",
    "        break            "
   ]
  },
  {
   "cell_type": "markdown",
   "metadata": {},
   "source": [
    "## plot the score in each try iteration"
   ]
  },
  {
   "cell_type": "code",
   "execution_count": 19,
   "metadata": {
    "ExecuteTime": {
     "end_time": "2017-10-25T07:54:16.345899Z",
     "start_time": "2017-10-25T07:54:15.900131Z"
    }
   },
   "outputs": [
    {
     "name": "stdout",
     "output_type": "stream",
     "text": [
      "(48, 2)\n"
     ]
    },
    {
     "data": {
      "image/png": "[encoded data removed]",
      "text/plain": [
       "<matplotlib.figure.Figure at 0x7f283622bb50>"
      ]
     },
     "metadata": {},
     "output_type": "display_data"
    }
   ],
   "source": [
    "import seaborn\n",
    "plt.style.use('bmh')\n",
    "arr = np.asarray(record)\n",
    "print arr.shape\n",
    "fig, ax1 = plt.subplots()\n",
    "ind=np.arange(0,arr.shape[0],1)\n",
    "#t = np.arange(0.01, 10.0, 0.01)\n",
    "#s1 = np.exp(t)\n",
    "ax1.plot(ind,arr[:,0], 'b-')\n",
    "ax1.set_xlabel('try iteration')\n",
    "ax1.set_xticks(ind[::5])\n",
    "# Make the y-axis label, ticks and tick labels match the line color.\n",
    "ax1.set_ylabel('score mean', color='b')\n",
    "ax1.tick_params('y', colors='b')\n",
    "\n",
    "ax2 = ax1.twinx()\n",
    "ax2.plot(ind,arr[:,1], 'g--')\n",
    "ax2.set_ylabel('score variance', color='g')\n",
    "ax2.tick_params('y', colors='g')\n",
    "plt.grid(True)\n",
    "#fig.tight_layout()\n",
    "plt.title('BigDL naive PG (Cart-Pole v1)');"
   ]
  },
  {
   "cell_type": "code",
   "execution_count": 28,
   "metadata": {
    "ExecuteTime": {
     "end_time": "2017-10-25T07:58:48.453862Z",
     "start_time": "2017-10-25T07:58:47.380381Z"
    }
   },
   "outputs": [
    {
     "name": "stdout",
     "output_type": "stream",
     "text": [
      "(48, 3)\n"
     ]
    },
    {
     "data": {
      "text/plain": [
       "<matplotlib.legend.Legend at 0x7f281faffe10>"
      ]
     },
     "execution_count": 28,
     "metadata": {},
     "output_type": "execute_result"
    },
    {
     "data": {
      "image/png": "[encoded data removed]",
      "text/plain": [
       "<matplotlib.figure.Figure at 0x7f281faff850>"
      ]
     },
     "metadata": {},
     "output_type": "display_data"
    }
   ],
   "source": [
    "plt.style.use('bmh')\n",
    "exe_arr = np.asarray(exe_times)\n",
    "print exe_arr.shape\n",
    "\n",
    "ind=np.arange(0,arr.shape[0],1)\n",
    "\n",
    "p1 = plt.bar(ind, exe_arr[:,0], width, color='r')\n",
    "p2 = plt.bar(ind, exe_arr[:,1], width, color='g',bottom=exe_arr[:,0])\n",
    "p3 = plt.bar(ind, exe_arr[:,2], width, color='b',bottom=exe_arr[:,1])\n",
    "             \n",
    "\n",
    "plt.ylabel('execution time (secs)')\n",
    "plt.title('Time breakdown of each trial')\n",
    "#plt.xticks(ind, ('G1', 'G2', 'G3', 'G4', 'G5'))\n",
    "#plt.yticks(np.arange(0, 81, 10))\n",
    "plt.legend((p1[0], p2[0],p3[0]), ('exe time for game playing', 'exe time for data preparation','exe time for training'))"
   ]
  },
  {
   "cell_type": "code",
   "execution_count": null,
   "metadata": {},
   "outputs": [],
   "source": []
  }
 ],
 "metadata": {
  "anaconda-cloud": {},
  "kernelspec": {
   "display_name": "Python 2",
   "language": "python",
   "name": "python2"
  },
  "language_info": {
   "codemirror_mode": {
    "name": "ipython",
    "version": 2
   },
   "file_extension": ".py",
   "mimetype": "text/x-python",
   "name": "python",
   "nbconvert_exporter": "python",
   "pygments_lexer": "ipython2",
   "version": "2.7.6"
  },
  "toc": {
   "nav_menu": {},
   "number_sections": true,
   "sideBar": true,
   "skip_h1_title": false,
   "toc_cell": false,
   "toc_position": {},
   "toc_section_display": "block",
   "toc_window_display": true
  }
 },
 "nbformat": 4,
 "nbformat_minor": 1
}

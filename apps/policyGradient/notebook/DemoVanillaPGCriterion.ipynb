{
 "cells": [
  {
   "cell_type": "code",
   "execution_count": 1,
   "metadata": {
    "ExecuteTime": {
     "end_time": "2017-11-01T08:54:08.833711Z",
     "start_time": "2017-11-01T08:54:08.386074Z"
    }
   },
   "outputs": [],
   "source": [
    "#from bigdl.dataset.transformer import Sample\n",
    "from bigdl.nn.layer import *\n",
    "from bigdl.util.common import *\n",
    "from bigdl.optim.optimizer import *\n",
    "from bigdl.nn.criterion import *\n",
    "\n",
    "from rl.criterion import *\n",
    "\n",
    "init_engine()\n",
    "\n"
   ]
  },
  {
   "cell_type": "code",
   "execution_count": 2,
   "metadata": {
    "ExecuteTime": {
     "end_time": "2017-11-01T08:54:09.432553Z",
     "start_time": "2017-11-01T08:54:09.266966Z"
    }
   },
   "outputs": [
    {
     "name": "stdout",
     "output_type": "stream",
     "text": [
      "creating: createVanillaPGCriterion\n"
     ]
    }
   ],
   "source": [
    "criterion = VanillaPGCriterion()\n",
    "input = np.array([\n",
    "              [1.0, 2.0, 3.0],\n",
    "              [2.0, 3.0, 4.0],\n",
    "              [3.0, 4.0, 5.0]\n",
    "          ])\n",
    "\n",
    "target = np.array([1.0, 2.0, 3.0])\n",
    "\n",
    "loss = criterion.forward(input, target)\n",
    "gradient= criterion.backward(input, target)"
   ]
  },
  {
   "cell_type": "code",
   "execution_count": 3,
   "metadata": {
    "ExecuteTime": {
     "end_time": "2017-11-01T08:54:10.017714Z",
     "start_time": "2017-11-01T08:54:10.011154Z"
    }
   },
   "outputs": [
    {
     "name": "stdout",
     "output_type": "stream",
     "text": [
      "-3.0\n",
      "[[-0.33333334  0.          0.        ]\n",
      " [ 0.         -0.33333334  0.        ]\n",
      " [ 0.          0.         -0.33333334]]\n"
     ]
    }
   ],
   "source": [
    "print loss\n",
    "print gradient"
   ]
  },
  {
   "cell_type": "code",
   "execution_count": null,
   "metadata": {},
   "outputs": [],
   "source": []
  }
 ],
 "metadata": {
  "kernelspec": {
   "display_name": "Python 2",
   "language": "python",
   "name": "python2"
  },
  "language_info": {
   "codemirror_mode": {
    "name": "ipython",
    "version": 2
   },
   "file_extension": ".py",
   "mimetype": "text/x-python",
   "name": "python",
   "nbconvert_exporter": "python",
   "pygments_lexer": "ipython2",
   "version": "2.7.6"
  },
  "toc": {
   "nav_menu": {},
   "number_sections": true,
   "sideBar": true,
   "skip_h1_title": false,
   "toc_cell": false,
   "toc_position": {},
   "toc_section_display": "block",
   "toc_window_display": false
  }
 },
 "nbformat": 4,
 "nbformat_minor": 2
}
